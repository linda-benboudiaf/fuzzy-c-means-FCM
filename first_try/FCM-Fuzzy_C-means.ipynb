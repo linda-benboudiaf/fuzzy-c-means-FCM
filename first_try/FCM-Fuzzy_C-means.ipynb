{
 "cells": [
  {
   "cell_type": "markdown",
   "metadata": {},
   "source": [
    "## Implementation de FCM Fuzzy C-Means de Scratch\n",
    "### Importation des librairies"
   ]
  },
  {
   "cell_type": "code",
   "execution_count": 92,
   "metadata": {},
   "outputs": [],
   "source": [
    "import os\n",
    "import random\n",
    "import numpy as np\n",
    "import matplotlib.image as img \n",
    "import copy \n",
    "from PIL import Image"
   ]
  },
  {
   "cell_type": "markdown",
   "metadata": {},
   "source": [
    "#### Définition des paramètres pour FCM"
   ]
  },
  {
   "cell_type": "code",
   "execution_count": 93,
   "metadata": {},
   "outputs": [],
   "source": [
    "K = 2\n",
    "m = 2\n",
    "epsilon = 10"
   ]
  },
  {
   "cell_type": "markdown",
   "metadata": {},
   "source": [
    "#### Lecture de la donnée"
   ]
  },
  {
   "cell_type": "code",
   "execution_count": 94,
   "metadata": {},
   "outputs": [],
   "source": [
    "data = img.imread('./img/a-.jpg')\n",
    "img_shape = data.shape\n",
    "data = data.flatten()\n",
    "data = [[x] for x in data]\n",
    "N = len(data)"
   ]
  },
  {
   "cell_type": "code",
   "execution_count": 95,
   "metadata": {},
   "outputs": [],
   "source": [
    "def euclid_dist(x,y):\n",
    "    return sum([(i-j) for i,j in zip(x,y)])"
   ]
  },
  {
   "cell_type": "code",
   "execution_count": 96,
   "metadata": {},
   "outputs": [],
   "source": [
    "def updateMembershipValue(U,C):\n",
    "    new_U = copy.deepcopy(U)\n",
    "    dominateur=0\n",
    "    p = 2/(m-1)\n",
    "    for i in range(N):\n",
    "        for j in range(K):\n",
    "            dominateur =0\n",
    "            for k in range(K):\n",
    "                dominateur += pow(euclid_dist(data[i],C[j])/euclid_dist(data[i],C[k]),p)\n",
    "            new_U[i][j] = float(1/dominateur)\n",
    "    return new_U"
   ]
  },
  {
   "cell_type": "code",
   "execution_count": 97,
   "metadata": {},
   "outputs": [],
   "source": [
    "def calculateClusterCenter(U):\n",
    "    C = []\n",
    "    for j in range(K):\n",
    "        temp,temp1,temp2=0,[],[]\n",
    "        for i in range(N):\n",
    "            temp += U[i][j]\n",
    "            temp2 = [U[i][j]*m for val in data[i]]\n",
    "            temp1.append(temp2)\n",
    "        numerator = list(map(sum,zip(*temp1)))\n",
    "        C.append([x/temp for x in numerator])\n",
    "    return C"
   ]
  },
  {
   "cell_type": "code",
   "execution_count": 98,
   "metadata": {},
   "outputs": [],
   "source": [
    "def stop_Constrain(U, new_U):\n",
    "    z = np.subtract(U,new_U)\n",
    "    z = np.absolute(z)\n",
    "    max_ = np.max(z)\n",
    "    return max_ < epsilon"
   ]
  },
  {
   "cell_type": "code",
   "execution_count": 99,
   "metadata": {},
   "outputs": [],
   "source": [
    "def getClusters(U):\n",
    "    cluster_labels = list()\n",
    "    for i in range(N):\n",
    "        max_val, idx = max((val, idx) for (idx, val) in enumerate(U[i]))\n",
    "        cluster_labels.append(idx)\n",
    "    return cluster_labels"
   ]
  },
  {
   "cell_type": "code",
   "execution_count": 100,
   "metadata": {},
   "outputs": [],
   "source": [
    "def initializeMembershipMatrix():\n",
    "    U = list()\n",
    "    for i in range(N):\n",
    "        random_num_list = [random.random() for i in range(K)]\n",
    "        s= sum(random_num_list)\n",
    "        temp_list = [x/s for x in random_num_list]\n",
    "        U.append(temp_list)\n",
    "    return U"
   ]
  },
  {
   "cell_type": "code",
   "execution_count": 101,
   "metadata": {},
   "outputs": [],
   "source": [
    "def fuzzy_Classification():\n",
    "    U = initializeMembershipMatrix()\n",
    "    while (1):\n",
    "        C = calculateClusterCenter(U)\n",
    "        new_U = updateMembershipValue(U, C)\n",
    "        if(stop_Constrain(U,new_U)):\n",
    "            clusters = 255*np.array(getClusters(new_U))\n",
    "            clusters = clusters.reshape(img_shape)\n",
    "            img = Image.fromarray(clusters.astype(np.uint8))\n",
    "            img.show()\n",
    "            break"
   ]
  },
  {
   "cell_type": "code",
   "execution_count": null,
   "metadata": {},
   "outputs": [
    {
     "name": "stderr",
     "output_type": "stream",
     "text": [
      "/home/lbenboudiaf/.local/lib/python3.5/site-packages/ipykernel_launcher.py:9: RuntimeWarning: invalid value encountered in double_scalars\n",
      "  if __name__ == '__main__':\n"
     ]
    }
   ],
   "source": [
    "fuzzy_Classification()"
   ]
  }
 ],
 "metadata": {
  "kernelspec": {
   "display_name": "Python 3",
   "language": "python",
   "name": "python3"
  },
  "language_info": {
   "codemirror_mode": {
    "name": "ipython",
    "version": 3
   },
   "file_extension": ".py",
   "mimetype": "text/x-python",
   "name": "python",
   "nbconvert_exporter": "python",
   "pygments_lexer": "ipython3",
   "version": "3.5.2"
  }
 },
 "nbformat": 4,
 "nbformat_minor": 2
}
